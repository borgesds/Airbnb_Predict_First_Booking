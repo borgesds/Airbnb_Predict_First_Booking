{
 "cells": [
  {
   "cell_type": "markdown",
   "id": "b5dd6bf0",
   "metadata": {
    "heading_collapsed": true
   },
   "source": [
    "# - ENETENDER O PROBLEMA"
   ]
  },
  {
   "cell_type": "markdown",
   "id": "78470631",
   "metadata": {
    "hidden": true
   },
   "source": [
    "-- Objetivo do Problema:\n",
    "\n",
    "    -- 1.0. Previsão do primeiro destino que um novo usuário irá escolher.\n",
    "    \n",
    "    -- Porque?\n",
    "    \n",
    "        -- Qual o tipo de modelo de negócio do Airbnb?\n",
    "        \n",
    "            -- Marketplace(Conectar pesoas que oferecem acomodações, com pessoas que estão procurando acomaodações)\n",
    "            \n",
    "            -- Oferta (Pessoas oferecendo acomodação)\n",
    "            \n",
    "                -- Tamanho do portifólio.\n",
    "                \n",
    "                -- Diversidade/Densidade de portifólio.\n",
    "                \n",
    "                -- Preço Médio.\n",
    "                \n",
    "            -- Demanda (Pessoas procurando acomodação)\n",
    "            \n",
    "                -- Número de Usuários.\n",
    "                \n",
    "                -- LTV (Lifetime Volue)\n",
    "                \n",
    "                -- CAC (Client Acquisition Cost)\n",
    "                \n",
    "                \n",
    "               Gross Revenue = (Free * Número Cliente) - CAC\n",
    "                \n",
    "\n",
    "-- Proposta da Solução:\n",
    "\n",
    "    -- Modelo de previsão do primeiro destino de um novo usuário.\n",
    "    \n",
    "    -- 1.0 Predições e salvar em tabela do banco de dados.\n",
    "    \n",
    "    -- 2.0 API.\n",
    "    \n",
    "        -- Input: Usuário e suas caracteristicas.\n",
    "        \n",
    "        -- Output: Usário e suas caracteristicas com a **predição do destino**\n",
    "        "
   ]
  },
  {
   "cell_type": "markdown",
   "id": "ddc18515",
   "metadata": {},
   "source": [
    "# 0.0 IMPORTS"
   ]
  },
  {
   "cell_type": "code",
   "execution_count": 1,
   "id": "4187f029",
   "metadata": {
    "ExecuteTime": {
     "end_time": "2021-11-29T20:42:44.362519Z",
     "start_time": "2021-11-29T20:42:41.736109Z"
    }
   },
   "outputs": [],
   "source": [
    "import pandas as pd"
   ]
  },
  {
   "cell_type": "markdown",
   "id": "3098787e",
   "metadata": {},
   "source": [
    "## 0.1 Helper Functions"
   ]
  },
  {
   "cell_type": "markdown",
   "id": "b89c3543",
   "metadata": {},
   "source": [
    "## 0.2 Loading Data"
   ]
  },
  {
   "cell_type": "code",
   "execution_count": 3,
   "id": "d78e70d2",
   "metadata": {
    "ExecuteTime": {
     "end_time": "2021-11-29T20:44:05.676832Z",
     "start_time": "2021-11-29T20:44:05.328718Z"
    }
   },
   "outputs": [
    {
     "data": {
      "text/plain": [
       "(213451, 16)"
      ]
     },
     "execution_count": 3,
     "metadata": {},
     "output_type": "execute_result"
    }
   ],
   "source": [
    "df_raw = pd.read_csv('Datasets/train_users_2.csv', low_memory=True)\n",
    "df_raw.shape"
   ]
  },
  {
   "cell_type": "code",
   "execution_count": 5,
   "id": "fb757177",
   "metadata": {
    "ExecuteTime": {
     "end_time": "2021-11-29T20:58:56.680066Z",
     "start_time": "2021-11-29T20:58:56.678120Z"
    }
   },
   "outputs": [],
   "source": [
    "# df_sessions = pd.read_csv('Dataset2/sessions.csv', low_memory=True)\n",
    "# df_sessions.shape"
   ]
  },
  {
   "cell_type": "markdown",
   "id": "fd7011c3",
   "metadata": {},
   "source": [
    "# 1.0 DATA DESCRIPTION"
   ]
  },
  {
   "cell_type": "code",
   "execution_count": 6,
   "id": "9dd3e86d",
   "metadata": {
    "ExecuteTime": {
     "end_time": "2021-11-29T20:59:25.161678Z",
     "start_time": "2021-11-29T20:59:25.141104Z"
    }
   },
   "outputs": [],
   "source": [
    "d1 = df_raw.copy()"
   ]
  },
  {
   "cell_type": "code",
   "execution_count": 7,
   "id": "394acb5c",
   "metadata": {
    "ExecuteTime": {
     "end_time": "2021-11-29T21:00:31.398200Z",
     "start_time": "2021-11-29T21:00:31.394894Z"
    }
   },
   "outputs": [
    {
     "name": "stdout",
     "output_type": "stream",
     "text": [
      "Number of rows: 213451\n",
      "Number of columns: 16\n"
     ]
    }
   ],
   "source": [
    "print('Number of rows: {}'.format(df_raw.shape[0]))\n",
    "print('Number of columns: {}'.format(df_raw.shape[1]))"
   ]
  },
  {
   "cell_type": "markdown",
   "id": "5246f966",
   "metadata": {},
   "source": [
    "# 2.0 DATA FILTERING"
   ]
  },
  {
   "cell_type": "markdown",
   "id": "eb0b4c5e",
   "metadata": {},
   "source": [
    "# 3.0 DATA PREPARATION"
   ]
  },
  {
   "cell_type": "markdown",
   "id": "b0f47a88",
   "metadata": {},
   "source": [
    "# 4.0 NEURAL NETWORK - MULTI-LAYER PERCEPTRON"
   ]
  },
  {
   "cell_type": "markdown",
   "id": "4d9abc91",
   "metadata": {},
   "source": [
    "# 5.0 NN PERFORMANCE"
   ]
  },
  {
   "cell_type": "code",
   "execution_count": null,
   "id": "428a4617",
   "metadata": {},
   "outputs": [],
   "source": []
  }
 ],
 "metadata": {
  "kernelspec": {
   "display_name": "Python 3",
   "language": "python",
   "name": "python3"
  },
  "language_info": {
   "codemirror_mode": {
    "name": "ipython",
    "version": 3
   },
   "file_extension": ".py",
   "mimetype": "text/x-python",
   "name": "python",
   "nbconvert_exporter": "python",
   "pygments_lexer": "ipython3",
   "version": "3.8.8"
  },
  "toc": {
   "base_numbering": 1,
   "nav_menu": {},
   "number_sections": false,
   "sideBar": false,
   "skip_h1_title": false,
   "title_cell": "Table of Contents",
   "title_sidebar": "Contents",
   "toc_cell": false,
   "toc_position": {
    "height": "456px",
    "left": "1056px",
    "top": "132px",
    "width": "264px"
   },
   "toc_section_display": true,
   "toc_window_display": false
  }
 },
 "nbformat": 4,
 "nbformat_minor": 5
}
