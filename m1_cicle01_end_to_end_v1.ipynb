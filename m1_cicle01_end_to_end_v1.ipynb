{
 "cells": [
  {
   "cell_type": "markdown",
   "id": "b5dd6bf0",
   "metadata": {
    "heading_collapsed": true
   },
   "source": [
    "# - ENETENDER O PROBLEMA"
   ]
  },
  {
   "cell_type": "markdown",
   "id": "78470631",
   "metadata": {
    "hidden": true
   },
   "source": [
    "-- Objetivo do Problema:\n",
    "\n",
    "    -- 1.0. Previsão do primeiro destino que um novo usuário irá escolher.\n",
    "    \n",
    "    -- Porque?\n",
    "    \n",
    "        -- Qual o tipo de modelo de negócio do Airbnb?\n",
    "        \n",
    "            -- Marketplace(Conectar pesoas que oferecem acomodações, com pessoas que estão procurando acomaodações)\n",
    "            \n",
    "            -- Oferta (Pessoas oferecendo acomodação)\n",
    "            \n",
    "                -- Tamanho do portifólio.\n",
    "                \n",
    "                -- Diversidade/Densidade de portifólio.\n",
    "                \n",
    "                -- Preço Médio.\n",
    "                \n",
    "            -- Demanda (Pessoas procurando acomodação)\n",
    "            \n",
    "                -- Número de Usuários.\n",
    "                \n",
    "                -- LTV (Lifetime Volue)\n",
    "                \n",
    "                -- CAC (Client Acquisition Cost)\n",
    "                \n",
    "                \n",
    "               Gross Revenue = (Free * Número Cliente) - CAC\n",
    "                \n",
    "\n",
    "-- Proposta da Solução:\n",
    "\n",
    "    -- Modelo de previsão do primeiro destino de um novo usuário.\n",
    "    \n",
    "    -- 1.0 Predições e salvar em tabela do banco de dados.\n",
    "    \n",
    "    -- 2.0 API.\n",
    "    \n",
    "        -- Input: Usuário e suas caracteristicas.\n",
    "        \n",
    "        -- Output: Usário e suas caracteristicas com a **predição do destino**\n",
    "        "
   ]
  },
  {
   "cell_type": "markdown",
   "id": "ddc18515",
   "metadata": {},
   "source": [
    "# 0.0 IMPORTS"
   ]
  },
  {
   "cell_type": "code",
   "execution_count": 34,
   "id": "4187f029",
   "metadata": {
    "ExecuteTime": {
     "end_time": "2021-11-30T20:16:00.245941Z",
     "start_time": "2021-11-30T20:15:58.175108Z"
    }
   },
   "outputs": [],
   "source": [
    "import pandas as pd\n",
    "\n",
    "from sklearn import model_selection as ms\n",
    "from keras import models as ml"
   ]
  },
  {
   "cell_type": "markdown",
   "id": "3098787e",
   "metadata": {},
   "source": [
    "## 0.1 Helper Functions"
   ]
  },
  {
   "cell_type": "markdown",
   "id": "b89c3543",
   "metadata": {},
   "source": [
    "## 0.2 Loading Data"
   ]
  },
  {
   "cell_type": "code",
   "execution_count": 8,
   "id": "d78e70d2",
   "metadata": {
    "ExecuteTime": {
     "end_time": "2021-11-30T18:49:48.202146Z",
     "start_time": "2021-11-30T18:49:47.730641Z"
    }
   },
   "outputs": [
    {
     "data": {
      "text/plain": [
       "(213451, 16)"
      ]
     },
     "execution_count": 8,
     "metadata": {},
     "output_type": "execute_result"
    }
   ],
   "source": [
    "df_raw = pd.read_csv('Datasets/train_users_2.csv', low_memory=True)\n",
    "df_raw.shape"
   ]
  },
  {
   "cell_type": "code",
   "execution_count": 9,
   "id": "fb757177",
   "metadata": {
    "ExecuteTime": {
     "end_time": "2021-11-30T18:49:48.205259Z",
     "start_time": "2021-11-30T18:49:48.203547Z"
    }
   },
   "outputs": [],
   "source": [
    "# df_sessions = pd.read_csv('Dataset2/sessions.csv', low_memory=True)\n",
    "# df_sessions.shape"
   ]
  },
  {
   "cell_type": "markdown",
   "id": "fd7011c3",
   "metadata": {},
   "source": [
    "# 1.0 DATA DESCRIPTION"
   ]
  },
  {
   "cell_type": "code",
   "execution_count": 10,
   "id": "9dd3e86d",
   "metadata": {
    "ExecuteTime": {
     "end_time": "2021-11-30T18:49:48.331402Z",
     "start_time": "2021-11-30T18:49:48.206595Z"
    }
   },
   "outputs": [],
   "source": [
    "df1 = df_raw.copy()"
   ]
  },
  {
   "cell_type": "code",
   "execution_count": 11,
   "id": "394acb5c",
   "metadata": {
    "ExecuteTime": {
     "end_time": "2021-11-30T18:49:48.358526Z",
     "start_time": "2021-11-30T18:49:48.332651Z"
    }
   },
   "outputs": [
    {
     "name": "stdout",
     "output_type": "stream",
     "text": [
      "Number of rows: 213451\n",
      "Number of columns: 16\n"
     ]
    }
   ],
   "source": [
    "print('Number of rows: {}'.format(df1.shape[0]))\n",
    "print('Number of columns: {}'.format(df1.shape[1]))"
   ]
  },
  {
   "cell_type": "markdown",
   "id": "12c04433",
   "metadata": {},
   "source": [
    "## 1.1 Data type"
   ]
  },
  {
   "cell_type": "code",
   "execution_count": 12,
   "id": "2af35110",
   "metadata": {
    "ExecuteTime": {
     "end_time": "2021-11-30T18:49:48.529707Z",
     "start_time": "2021-11-30T18:49:48.360766Z"
    }
   },
   "outputs": [
    {
     "data": {
      "text/plain": [
       "id                          object\n",
       "date_account_created        object\n",
       "timestamp_first_active       int64\n",
       "date_first_booking          object\n",
       "gender                      object\n",
       "age                        float64\n",
       "signup_method               object\n",
       "signup_flow                  int64\n",
       "language                    object\n",
       "affiliate_channel           object\n",
       "affiliate_provider          object\n",
       "first_affiliate_tracked     object\n",
       "signup_app                  object\n",
       "first_device_type           object\n",
       "first_browser               object\n",
       "country_destination         object\n",
       "dtype: object"
      ]
     },
     "execution_count": 12,
     "metadata": {},
     "output_type": "execute_result"
    }
   ],
   "source": [
    "df1.dtypes"
   ]
  },
  {
   "cell_type": "markdown",
   "id": "3d35beef",
   "metadata": {},
   "source": [
    "## 1.2 NA Check"
   ]
  },
  {
   "cell_type": "code",
   "execution_count": 13,
   "id": "fbe8bbe7",
   "metadata": {
    "ExecuteTime": {
     "end_time": "2021-11-30T18:53:09.690385Z",
     "start_time": "2021-11-30T18:53:09.592753Z"
    }
   },
   "outputs": [
    {
     "data": {
      "text/plain": [
       "id                              0\n",
       "date_account_created            0\n",
       "timestamp_first_active          0\n",
       "date_first_booking         124543\n",
       "gender                          0\n",
       "age                         87990\n",
       "signup_method                   0\n",
       "signup_flow                     0\n",
       "language                        0\n",
       "affiliate_channel               0\n",
       "affiliate_provider              0\n",
       "first_affiliate_tracked      6065\n",
       "signup_app                      0\n",
       "first_device_type               0\n",
       "first_browser                   0\n",
       "country_destination             0\n",
       "dtype: int64"
      ]
     },
     "execution_count": 13,
     "metadata": {},
     "output_type": "execute_result"
    }
   ],
   "source": [
    "df1.isna().sum()"
   ]
  },
  {
   "cell_type": "code",
   "execution_count": 16,
   "id": "7f638b54",
   "metadata": {
    "ExecuteTime": {
     "end_time": "2021-11-30T19:08:38.637038Z",
     "start_time": "2021-11-30T19:08:38.532677Z"
    }
   },
   "outputs": [
    {
     "data": {
      "text/plain": [
       "(68171, 16)"
      ]
     },
     "execution_count": 16,
     "metadata": {},
     "output_type": "execute_result"
    }
   ],
   "source": [
    "# remove missing value completly\n",
    "df1 = df1.dropna()\n",
    "df1.shape"
   ]
  },
  {
   "cell_type": "markdown",
   "id": "b3473cc4",
   "metadata": {},
   "source": [
    "## 1.3 Change Data Type"
   ]
  },
  {
   "cell_type": "code",
   "execution_count": 17,
   "id": "9232d177",
   "metadata": {
    "ExecuteTime": {
     "end_time": "2021-11-30T19:09:06.928631Z",
     "start_time": "2021-11-30T19:09:06.924503Z"
    }
   },
   "outputs": [
    {
     "data": {
      "text/plain": [
       "id                          object\n",
       "date_account_created        object\n",
       "timestamp_first_active       int64\n",
       "date_first_booking          object\n",
       "gender                      object\n",
       "age                        float64\n",
       "signup_method               object\n",
       "signup_flow                  int64\n",
       "language                    object\n",
       "affiliate_channel           object\n",
       "affiliate_provider          object\n",
       "first_affiliate_tracked     object\n",
       "signup_app                  object\n",
       "first_device_type           object\n",
       "first_browser               object\n",
       "country_destination         object\n",
       "dtype: object"
      ]
     },
     "execution_count": 17,
     "metadata": {},
     "output_type": "execute_result"
    }
   ],
   "source": [
    "df1.dtypes"
   ]
  },
  {
   "cell_type": "code",
   "execution_count": 18,
   "id": "6aa655f1",
   "metadata": {
    "ExecuteTime": {
     "end_time": "2021-11-30T19:18:38.696913Z",
     "start_time": "2021-11-30T19:18:38.501995Z"
    }
   },
   "outputs": [],
   "source": [
    "# date_account_created \n",
    "df1['date_account_created'] = pd.to_datetime(df1['date_account_created'])\n",
    "\n",
    "# timestamp_first_active\n",
    "df1['timestamp_first_active'] = pd.to_datetime(df1['timestamp_first_active'], format='%Y%m%d%H%M%S')\n",
    "\n",
    "# date_first_booking\n",
    "df1['date_first_booking'] = pd.to_datetime(df1['date_first_booking'])\n",
    "\n",
    "# age\n",
    "df1['age'] = df1['age'].astype(int)"
   ]
  },
  {
   "cell_type": "code",
   "execution_count": 19,
   "id": "21859612",
   "metadata": {
    "ExecuteTime": {
     "end_time": "2021-11-30T19:18:42.130437Z",
     "start_time": "2021-11-30T19:18:42.126179Z"
    }
   },
   "outputs": [
    {
     "data": {
      "text/plain": [
       "id                                 object\n",
       "date_account_created       datetime64[ns]\n",
       "timestamp_first_active     datetime64[ns]\n",
       "date_first_booking         datetime64[ns]\n",
       "gender                             object\n",
       "age                                 int64\n",
       "signup_method                      object\n",
       "signup_flow                         int64\n",
       "language                           object\n",
       "affiliate_channel                  object\n",
       "affiliate_provider                 object\n",
       "first_affiliate_tracked            object\n",
       "signup_app                         object\n",
       "first_device_type                  object\n",
       "first_browser                      object\n",
       "country_destination                object\n",
       "dtype: object"
      ]
     },
     "execution_count": 19,
     "metadata": {},
     "output_type": "execute_result"
    }
   ],
   "source": [
    "df1.dtypes"
   ]
  },
  {
   "cell_type": "markdown",
   "id": "373e15b9",
   "metadata": {},
   "source": [
    "## 1.4 Chack Balanced Data"
   ]
  },
  {
   "cell_type": "code",
   "execution_count": 21,
   "id": "fdfc9eb8",
   "metadata": {
    "ExecuteTime": {
     "end_time": "2021-11-30T19:21:05.280585Z",
     "start_time": "2021-11-30T19:21:05.269894Z"
    }
   },
   "outputs": [
    {
     "data": {
      "text/plain": [
       "US       0.708864\n",
       "other    0.110854\n",
       "FR       0.054085\n",
       "IT       0.029763\n",
       "GB       0.025935\n",
       "ES       0.024864\n",
       "CA       0.015696\n",
       "DE       0.012454\n",
       "NL       0.008801\n",
       "AU       0.006366\n",
       "PT       0.002318\n",
       "Name: country_destination, dtype: float64"
      ]
     },
     "execution_count": 21,
     "metadata": {},
     "output_type": "execute_result"
    }
   ],
   "source": [
    "df1['country_destination'].value_counts(normalize=True)"
   ]
  },
  {
   "cell_type": "markdown",
   "id": "5246f966",
   "metadata": {},
   "source": [
    "# 2.0 DATA FILTERING"
   ]
  },
  {
   "cell_type": "code",
   "execution_count": 22,
   "id": "a7d4eee2",
   "metadata": {
    "ExecuteTime": {
     "end_time": "2021-11-30T19:40:31.479535Z",
     "start_time": "2021-11-30T19:40:31.474838Z"
    }
   },
   "outputs": [],
   "source": [
    "df2 =  df1.copy()"
   ]
  },
  {
   "cell_type": "markdown",
   "id": "519cf542",
   "metadata": {},
   "source": [
    "## 2.1 Filterting Rows"
   ]
  },
  {
   "cell_type": "markdown",
   "id": "0d37d3cf",
   "metadata": {},
   "source": [
    "## 2.2 Columns Selection"
   ]
  },
  {
   "cell_type": "markdown",
   "id": "eb0b4c5e",
   "metadata": {},
   "source": [
    "# 3.0 DATA PREPARATION"
   ]
  },
  {
   "cell_type": "code",
   "execution_count": 23,
   "id": "16b1762c",
   "metadata": {
    "ExecuteTime": {
     "end_time": "2021-11-30T19:41:12.767500Z",
     "start_time": "2021-11-30T19:41:12.762578Z"
    }
   },
   "outputs": [],
   "source": [
    "df3 = df2.copy()"
   ]
  },
  {
   "cell_type": "markdown",
   "id": "b0f47a88",
   "metadata": {},
   "source": [
    "# 4.0 FEATURE SELECTION"
   ]
  },
  {
   "cell_type": "code",
   "execution_count": 25,
   "id": "f3ef5326",
   "metadata": {
    "ExecuteTime": {
     "end_time": "2021-11-30T19:45:08.970444Z",
     "start_time": "2021-11-30T19:45:08.963321Z"
    }
   },
   "outputs": [],
   "source": [
    "cols_drop = ['date_account_created', 'timestamp_first_active', 'date_first_booking'] # original dates\n",
    "df4 = df3.drop(cols_drop, axis=1)"
   ]
  },
  {
   "cell_type": "code",
   "execution_count": 29,
   "id": "33a29382",
   "metadata": {
    "ExecuteTime": {
     "end_time": "2021-11-30T20:03:27.843905Z",
     "start_time": "2021-11-30T20:03:27.837124Z"
    }
   },
   "outputs": [],
   "source": [
    "# train\n",
    "X = df4.drop('country_destination', axis=1)\n",
    "y = df4['country_destination'].copy()"
   ]
  },
  {
   "cell_type": "markdown",
   "id": "b4d0d064",
   "metadata": {},
   "source": [
    "# 5.0 MACHINE LEARNING MODEL -Neural Network MLP"
   ]
  },
  {
   "cell_type": "code",
   "execution_count": 32,
   "id": "bbb1db48",
   "metadata": {
    "ExecuteTime": {
     "end_time": "2021-11-30T20:07:40.791651Z",
     "start_time": "2021-11-30T20:07:40.776872Z"
    }
   },
   "outputs": [],
   "source": [
    "# Split dataset into training and test\n",
    "X_train, X_test, y_train, y_test = ms.train_test_split(X, y, test_size=0.2, random_state=32)"
   ]
  },
  {
   "cell_type": "code",
   "execution_count": null,
   "id": "5c3f74ec",
   "metadata": {},
   "outputs": [],
   "source": [
    "# model definition\n",
    "ml.Sequential()"
   ]
  },
  {
   "cell_type": "markdown",
   "id": "4d9abc91",
   "metadata": {},
   "source": [
    "# 6.0 NN PERFORMANCE"
   ]
  },
  {
   "cell_type": "code",
   "execution_count": null,
   "id": "428a4617",
   "metadata": {},
   "outputs": [],
   "source": []
  },
  {
   "cell_type": "code",
   "execution_count": null,
   "id": "1d31ad82",
   "metadata": {},
   "outputs": [],
   "source": []
  }
 ],
 "metadata": {
  "kernelspec": {
   "display_name": "Python 3",
   "language": "python",
   "name": "python3"
  },
  "language_info": {
   "codemirror_mode": {
    "name": "ipython",
    "version": 3
   },
   "file_extension": ".py",
   "mimetype": "text/x-python",
   "name": "python",
   "nbconvert_exporter": "python",
   "pygments_lexer": "ipython3",
   "version": "3.8.8"
  },
  "toc": {
   "base_numbering": 1,
   "nav_menu": {},
   "number_sections": false,
   "sideBar": false,
   "skip_h1_title": false,
   "title_cell": "Table of Contents",
   "title_sidebar": "Contents",
   "toc_cell": false,
   "toc_position": {
    "height": "456px",
    "left": "1056px",
    "top": "132px",
    "width": "264px"
   },
   "toc_section_display": true,
   "toc_window_display": false
  }
 },
 "nbformat": 4,
 "nbformat_minor": 5
}
