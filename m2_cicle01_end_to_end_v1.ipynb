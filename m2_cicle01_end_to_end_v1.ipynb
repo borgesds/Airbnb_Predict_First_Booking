{
 "cells": [
  {
   "cell_type": "markdown",
   "id": "b5dd6bf0",
   "metadata": {
    "heading_collapsed": true
   },
   "source": [
    "# - ENETENDER O PROBLEMA"
   ]
  },
  {
   "cell_type": "markdown",
   "id": "78470631",
   "metadata": {
    "hidden": true
   },
   "source": [
    "-- Objetivo do Problema:\n",
    "\n",
    "    -- 1.0. Previsão do primeiro destino que um novo usuário irá escolher.\n",
    "    \n",
    "    -- Porque?\n",
    "    \n",
    "        -- Qual o tipo de modelo de negócio do Airbnb?\n",
    "        \n",
    "            -- Marketplace(Conectar pesoas que oferecem acomodações, com pessoas que estão procurando acomaodações)\n",
    "            \n",
    "            -- Oferta (Pessoas oferecendo acomodação)\n",
    "            \n",
    "                -- Tamanho do portifólio.\n",
    "                \n",
    "                -- Diversidade/Densidade de portifólio.\n",
    "                \n",
    "                -- Preço Médio.\n",
    "                \n",
    "            -- Demanda (Pessoas procurando acomodação)\n",
    "            \n",
    "                -- Número de Usuários.\n",
    "                \n",
    "                -- LTV (Lifetime Volue)\n",
    "                \n",
    "                -- CAC (Client Acquisition Cost)\n",
    "                \n",
    "                \n",
    "               Gross Revenue = (Free * Número Cliente) - CAC\n",
    "                \n",
    "\n",
    "-- Proposta da Solução:\n",
    "\n",
    "    -- Modelo de previsão do primeiro destino de um novo usuário.\n",
    "    \n",
    "    -- 1.0 Predições e salvar em tabela do banco de dados.\n",
    "    \n",
    "    -- 2.0 API.\n",
    "    \n",
    "        -- Input: Usuário e suas caracteristicas.\n",
    "        \n",
    "        -- Output: Usário e suas caracteristicas com a **predição do destino**\n",
    "        "
   ]
  },
  {
   "cell_type": "markdown",
   "id": "ddc18515",
   "metadata": {},
   "source": [
    "# 0.0 IMPORTS"
   ]
  },
  {
   "cell_type": "code",
   "execution_count": 28,
   "id": "4187f029",
   "metadata": {
    "ExecuteTime": {
     "end_time": "2021-12-04T12:34:22.128155Z",
     "start_time": "2021-12-04T12:34:22.120442Z"
    }
   },
   "outputs": [],
   "source": [
    "import pandas as pd\n",
    "\n",
    "from sklearn import model_selection as ms\n",
    "from keras import models as ml\n",
    "from keras import layers as l\n",
    "from sklearn import preprocessing as pp\n",
    "from sklearn import metrics as m \n",
    "from scikitplot import metrics as mt"
   ]
  },
  {
   "cell_type": "markdown",
   "id": "3098787e",
   "metadata": {},
   "source": [
    "## 0.1 Helper Functions"
   ]
  },
  {
   "cell_type": "markdown",
   "id": "b89c3543",
   "metadata": {},
   "source": [
    "## 0.2 Loading Data"
   ]
  },
  {
   "cell_type": "code",
   "execution_count": 29,
   "id": "d78e70d2",
   "metadata": {
    "ExecuteTime": {
     "end_time": "2021-12-04T12:34:22.540362Z",
     "start_time": "2021-12-04T12:34:22.134244Z"
    }
   },
   "outputs": [
    {
     "data": {
      "text/plain": [
       "(213451, 16)"
      ]
     },
     "execution_count": 29,
     "metadata": {},
     "output_type": "execute_result"
    }
   ],
   "source": [
    "df_raw = pd.read_csv('Datasets/train_users_2.csv', low_memory=True)\n",
    "df_raw.shape"
   ]
  },
  {
   "cell_type": "code",
   "execution_count": 30,
   "id": "fb757177",
   "metadata": {
    "ExecuteTime": {
     "end_time": "2021-12-04T12:34:22.543550Z",
     "start_time": "2021-12-04T12:34:22.541859Z"
    }
   },
   "outputs": [],
   "source": [
    "# df_sessions = pd.read_csv('Dataset2/sessions.csv', low_memory=True)\n",
    "# df_sessions.shape"
   ]
  },
  {
   "cell_type": "markdown",
   "id": "fd7011c3",
   "metadata": {},
   "source": [
    "# 1.0 DATA DESCRIPTION"
   ]
  },
  {
   "cell_type": "code",
   "execution_count": 31,
   "id": "9dd3e86d",
   "metadata": {
    "ExecuteTime": {
     "end_time": "2021-12-04T12:34:22.622121Z",
     "start_time": "2021-12-04T12:34:22.544909Z"
    }
   },
   "outputs": [],
   "source": [
    "df1 = df_raw.copy()"
   ]
  },
  {
   "cell_type": "code",
   "execution_count": 32,
   "id": "394acb5c",
   "metadata": {
    "ExecuteTime": {
     "end_time": "2021-12-04T12:34:22.669447Z",
     "start_time": "2021-12-04T12:34:22.624080Z"
    }
   },
   "outputs": [
    {
     "name": "stdout",
     "output_type": "stream",
     "text": [
      "Number of rows: 213451\n",
      "Number of columns: 16\n"
     ]
    }
   ],
   "source": [
    "print('Number of rows: {}'.format(df1.shape[0]))\n",
    "print('Number of columns: {}'.format(df1.shape[1]))"
   ]
  },
  {
   "cell_type": "markdown",
   "id": "12c04433",
   "metadata": {},
   "source": [
    "## 1.1 Data type"
   ]
  },
  {
   "cell_type": "code",
   "execution_count": 33,
   "id": "2af35110",
   "metadata": {
    "ExecuteTime": {
     "end_time": "2021-12-04T12:34:22.731039Z",
     "start_time": "2021-12-04T12:34:22.670818Z"
    }
   },
   "outputs": [
    {
     "data": {
      "text/plain": [
       "id                          object\n",
       "date_account_created        object\n",
       "timestamp_first_active       int64\n",
       "date_first_booking          object\n",
       "gender                      object\n",
       "age                        float64\n",
       "signup_method               object\n",
       "signup_flow                  int64\n",
       "language                    object\n",
       "affiliate_channel           object\n",
       "affiliate_provider          object\n",
       "first_affiliate_tracked     object\n",
       "signup_app                  object\n",
       "first_device_type           object\n",
       "first_browser               object\n",
       "country_destination         object\n",
       "dtype: object"
      ]
     },
     "execution_count": 33,
     "metadata": {},
     "output_type": "execute_result"
    }
   ],
   "source": [
    "df1.dtypes"
   ]
  },
  {
   "cell_type": "markdown",
   "id": "3d35beef",
   "metadata": {},
   "source": [
    "## 1.2 NA Check"
   ]
  },
  {
   "cell_type": "code",
   "execution_count": 34,
   "id": "fbe8bbe7",
   "metadata": {
    "ExecuteTime": {
     "end_time": "2021-12-04T12:34:22.891135Z",
     "start_time": "2021-12-04T12:34:22.733016Z"
    }
   },
   "outputs": [
    {
     "data": {
      "text/plain": [
       "id                              0\n",
       "date_account_created            0\n",
       "timestamp_first_active          0\n",
       "date_first_booking         124543\n",
       "gender                          0\n",
       "age                         87990\n",
       "signup_method                   0\n",
       "signup_flow                     0\n",
       "language                        0\n",
       "affiliate_channel               0\n",
       "affiliate_provider              0\n",
       "first_affiliate_tracked      6065\n",
       "signup_app                      0\n",
       "first_device_type               0\n",
       "first_browser                   0\n",
       "country_destination             0\n",
       "dtype: int64"
      ]
     },
     "execution_count": 34,
     "metadata": {},
     "output_type": "execute_result"
    }
   ],
   "source": [
    "df1.isna().sum()"
   ]
  },
  {
   "cell_type": "code",
   "execution_count": 35,
   "id": "7f638b54",
   "metadata": {
    "ExecuteTime": {
     "end_time": "2021-12-04T12:34:23.081492Z",
     "start_time": "2021-12-04T12:34:22.892881Z"
    }
   },
   "outputs": [
    {
     "data": {
      "text/plain": [
       "(68171, 16)"
      ]
     },
     "execution_count": 35,
     "metadata": {},
     "output_type": "execute_result"
    }
   ],
   "source": [
    "# remove missing value completly\n",
    "df1 = df1.dropna()\n",
    "df1.shape"
   ]
  },
  {
   "cell_type": "markdown",
   "id": "b3473cc4",
   "metadata": {},
   "source": [
    "## 1.3 Change Data Type"
   ]
  },
  {
   "cell_type": "code",
   "execution_count": 36,
   "id": "9232d177",
   "metadata": {
    "ExecuteTime": {
     "end_time": "2021-12-04T12:34:23.132032Z",
     "start_time": "2021-12-04T12:34:23.082602Z"
    }
   },
   "outputs": [
    {
     "data": {
      "text/plain": [
       "id                          object\n",
       "date_account_created        object\n",
       "timestamp_first_active       int64\n",
       "date_first_booking          object\n",
       "gender                      object\n",
       "age                        float64\n",
       "signup_method               object\n",
       "signup_flow                  int64\n",
       "language                    object\n",
       "affiliate_channel           object\n",
       "affiliate_provider          object\n",
       "first_affiliate_tracked     object\n",
       "signup_app                  object\n",
       "first_device_type           object\n",
       "first_browser               object\n",
       "country_destination         object\n",
       "dtype: object"
      ]
     },
     "execution_count": 36,
     "metadata": {},
     "output_type": "execute_result"
    }
   ],
   "source": [
    "df1.dtypes"
   ]
  },
  {
   "cell_type": "code",
   "execution_count": 37,
   "id": "6aa655f1",
   "metadata": {
    "ExecuteTime": {
     "end_time": "2021-12-04T12:34:23.402829Z",
     "start_time": "2021-12-04T12:34:23.134467Z"
    }
   },
   "outputs": [],
   "source": [
    "# date_account_created \n",
    "df1['date_account_created'] = pd.to_datetime(df1['date_account_created'])\n",
    "\n",
    "# timestamp_first_active\n",
    "df1['timestamp_first_active'] = pd.to_datetime(df1['timestamp_first_active'], format='%Y%m%d%H%M%S')\n",
    "\n",
    "# date_first_booking\n",
    "df1['date_first_booking'] = pd.to_datetime(df1['date_first_booking'])\n",
    "\n",
    "# age\n",
    "df1['age'] = df1['age'].astype(int)"
   ]
  },
  {
   "cell_type": "code",
   "execution_count": 38,
   "id": "21859612",
   "metadata": {
    "ExecuteTime": {
     "end_time": "2021-12-04T12:34:23.413583Z",
     "start_time": "2021-12-04T12:34:23.404327Z"
    }
   },
   "outputs": [
    {
     "data": {
      "text/plain": [
       "id                                 object\n",
       "date_account_created       datetime64[ns]\n",
       "timestamp_first_active     datetime64[ns]\n",
       "date_first_booking         datetime64[ns]\n",
       "gender                             object\n",
       "age                                 int64\n",
       "signup_method                      object\n",
       "signup_flow                         int64\n",
       "language                           object\n",
       "affiliate_channel                  object\n",
       "affiliate_provider                 object\n",
       "first_affiliate_tracked            object\n",
       "signup_app                         object\n",
       "first_device_type                  object\n",
       "first_browser                      object\n",
       "country_destination                object\n",
       "dtype: object"
      ]
     },
     "execution_count": 38,
     "metadata": {},
     "output_type": "execute_result"
    }
   ],
   "source": [
    "df1.dtypes"
   ]
  },
  {
   "cell_type": "markdown",
   "id": "373e15b9",
   "metadata": {},
   "source": [
    "## 1.4 Chack Balanced Data"
   ]
  },
  {
   "cell_type": "code",
   "execution_count": 39,
   "id": "fdfc9eb8",
   "metadata": {
    "ExecuteTime": {
     "end_time": "2021-12-04T12:34:23.477011Z",
     "start_time": "2021-12-04T12:34:23.414949Z"
    }
   },
   "outputs": [
    {
     "data": {
      "text/plain": [
       "US       0.708864\n",
       "other    0.110854\n",
       "FR       0.054085\n",
       "IT       0.029763\n",
       "GB       0.025935\n",
       "ES       0.024864\n",
       "CA       0.015696\n",
       "DE       0.012454\n",
       "NL       0.008801\n",
       "AU       0.006366\n",
       "PT       0.002318\n",
       "Name: country_destination, dtype: float64"
      ]
     },
     "execution_count": 39,
     "metadata": {},
     "output_type": "execute_result"
    }
   ],
   "source": [
    "df1['country_destination'].value_counts(normalize=True)"
   ]
  },
  {
   "cell_type": "markdown",
   "id": "5246f966",
   "metadata": {},
   "source": [
    "# 2.0 DATA FILTERING"
   ]
  },
  {
   "cell_type": "code",
   "execution_count": 40,
   "id": "a7d4eee2",
   "metadata": {
    "ExecuteTime": {
     "end_time": "2021-12-04T12:34:23.558504Z",
     "start_time": "2021-12-04T12:34:23.478280Z"
    }
   },
   "outputs": [],
   "source": [
    "df2 =  df1.copy()"
   ]
  },
  {
   "cell_type": "markdown",
   "id": "519cf542",
   "metadata": {},
   "source": [
    "## 2.1 Filterting Rows"
   ]
  },
  {
   "cell_type": "markdown",
   "id": "0d37d3cf",
   "metadata": {},
   "source": [
    "## 2.2 Columns Selection"
   ]
  },
  {
   "cell_type": "markdown",
   "id": "eb0b4c5e",
   "metadata": {},
   "source": [
    "# 3.0 DATA PREPARATION"
   ]
  },
  {
   "cell_type": "code",
   "execution_count": 41,
   "id": "16b1762c",
   "metadata": {
    "ExecuteTime": {
     "end_time": "2021-12-04T12:34:23.621429Z",
     "start_time": "2021-12-04T12:34:23.559961Z"
    }
   },
   "outputs": [],
   "source": [
    "df3 = df2.copy()"
   ]
  },
  {
   "cell_type": "code",
   "execution_count": 42,
   "id": "ce32269e",
   "metadata": {
    "ExecuteTime": {
     "end_time": "2021-12-04T12:34:23.756522Z",
     "start_time": "2021-12-04T12:34:23.624741Z"
    }
   },
   "outputs": [],
   "source": [
    "# dummy variable\n",
    "df3_dummy = pd.get_dummies(df3.drop(['id', 'country_destination'], axis=1))\n",
    "\n",
    "# join id and country_destination\n",
    "df3 = pd.concat([df3[['id', 'country_destination']], df3_dummy], axis=1)"
   ]
  },
  {
   "cell_type": "markdown",
   "id": "b0f47a88",
   "metadata": {},
   "source": [
    "# 4.0 FEATURE SELECTION"
   ]
  },
  {
   "cell_type": "code",
   "execution_count": 43,
   "id": "f3ef5326",
   "metadata": {
    "ExecuteTime": {
     "end_time": "2021-12-04T12:34:23.766581Z",
     "start_time": "2021-12-04T12:34:23.757877Z"
    }
   },
   "outputs": [],
   "source": [
    "cols_drop = ['date_account_created', 'timestamp_first_active', 'date_first_booking'] # original dates\n",
    "df4 = df3.drop(cols_drop, axis=1)"
   ]
  },
  {
   "cell_type": "markdown",
   "id": "b4d0d064",
   "metadata": {},
   "source": [
    "# 5.0 MACHINE LEARNING MODEL -Neural Network MLP"
   ]
  },
  {
   "cell_type": "code",
   "execution_count": 44,
   "id": "33a29382",
   "metadata": {
    "ExecuteTime": {
     "end_time": "2021-12-04T12:34:23.845985Z",
     "start_time": "2021-12-04T12:34:23.767776Z"
    }
   },
   "outputs": [],
   "source": [
    "# train\n",
    "X = df4.drop('country_destination', axis=1)\n",
    "y = df4['country_destination'].copy()"
   ]
  },
  {
   "cell_type": "code",
   "execution_count": 45,
   "id": "bbb1db48",
   "metadata": {
    "ExecuteTime": {
     "end_time": "2021-12-04T12:34:23.949644Z",
     "start_time": "2021-12-04T12:34:23.851073Z"
    }
   },
   "outputs": [],
   "source": [
    "# Split dataset into training and test\n",
    "X_train, X_test, y_train, y_test = ms.train_test_split(X, y, test_size=0.2, random_state=32)"
   ]
  },
  {
   "cell_type": "code",
   "execution_count": 46,
   "id": "5453ee4a",
   "metadata": {
    "ExecuteTime": {
     "end_time": "2021-12-04T12:34:23.965152Z",
     "start_time": "2021-12-04T12:34:23.954081Z"
    }
   },
   "outputs": [],
   "source": [
    "x_train = X_train.drop('id', axis=1)\n",
    "x_test = X_test.drop('id', axis=1)"
   ]
  },
  {
   "cell_type": "code",
   "execution_count": 47,
   "id": "632eccc7",
   "metadata": {
    "ExecuteTime": {
     "end_time": "2021-12-04T12:34:24.091708Z",
     "start_time": "2021-12-04T12:34:23.966707Z"
    }
   },
   "outputs": [],
   "source": [
    "ohe = pp.OneHotEncoder()\n",
    "y_train_nn = ohe.fit_transform(y_train.values.reshape(-1, 1)).toarray()"
   ]
  },
  {
   "cell_type": "code",
   "execution_count": 48,
   "id": "5c3f74ec",
   "metadata": {
    "ExecuteTime": {
     "end_time": "2021-12-04T12:37:08.498271Z",
     "start_time": "2021-12-04T12:34:24.096606Z"
    },
    "scrolled": true
   },
   "outputs": [
    {
     "name": "stdout",
     "output_type": "stream",
     "text": [
      "Epoch 1/100\n",
      "1705/1705 [==============================] - 2s 1ms/step - loss: 1.3500 - accuracy: 0.7026\n",
      "Epoch 2/100\n",
      "1705/1705 [==============================] - 2s 945us/step - loss: 1.2820 - accuracy: 0.7065\n",
      "Epoch 3/100\n",
      "1705/1705 [==============================] - 2s 942us/step - loss: 1.2510 - accuracy: 0.7078\n",
      "Epoch 4/100\n",
      "1705/1705 [==============================] - 2s 978us/step - loss: 1.2186 - accuracy: 0.7084\n",
      "Epoch 5/100\n",
      "1705/1705 [==============================] - 2s 971us/step - loss: 1.1916 - accuracy: 0.7087\n",
      "Epoch 6/100\n",
      "1705/1705 [==============================] - 2s 919us/step - loss: 1.1754 - accuracy: 0.7086\n",
      "Epoch 7/100\n",
      "1705/1705 [==============================] - 2s 907us/step - loss: 1.1615 - accuracy: 0.7089\n",
      "Epoch 8/100\n",
      "1705/1705 [==============================] - 2s 899us/step - loss: 1.1483 - accuracy: 0.7086\n",
      "Epoch 9/100\n",
      "1705/1705 [==============================] - 2s 894us/step - loss: 1.1416 - accuracy: 0.7088\n",
      "Epoch 10/100\n",
      "1705/1705 [==============================] - 2s 921us/step - loss: 1.1367 - accuracy: 0.7089\n",
      "Epoch 11/100\n",
      "1705/1705 [==============================] - 2s 926us/step - loss: 1.1342 - accuracy: 0.7091\n",
      "Epoch 12/100\n",
      "1705/1705 [==============================] - 2s 896us/step - loss: 1.1310 - accuracy: 0.7095\n",
      "Epoch 13/100\n",
      "1705/1705 [==============================] - 2s 906us/step - loss: 1.1310 - accuracy: 0.7096\n",
      "Epoch 14/100\n",
      "1705/1705 [==============================] - 2s 932us/step - loss: 1.1304 - accuracy: 0.7096\n",
      "Epoch 15/100\n",
      "1705/1705 [==============================] - 2s 905us/step - loss: 1.1285 - accuracy: 0.7096\n",
      "Epoch 16/100\n",
      "1705/1705 [==============================] - 2s 907us/step - loss: 1.1273 - accuracy: 0.7097\n",
      "Epoch 17/100\n",
      "1705/1705 [==============================] - 2s 926us/step - loss: 1.1265 - accuracy: 0.7098\n",
      "Epoch 18/100\n",
      "1705/1705 [==============================] - 2s 927us/step - loss: 1.1260 - accuracy: 0.7097\n",
      "Epoch 19/100\n",
      "1705/1705 [==============================] - 2s 952us/step - loss: 1.1246 - accuracy: 0.7098\n",
      "Epoch 20/100\n",
      "1705/1705 [==============================] - 2s 986us/step - loss: 1.1246 - accuracy: 0.7098\n",
      "Epoch 21/100\n",
      "1705/1705 [==============================] - 2s 919us/step - loss: 1.1235 - accuracy: 0.7098\n",
      "Epoch 22/100\n",
      "1705/1705 [==============================] - 2s 905us/step - loss: 1.1227 - accuracy: 0.7098\n",
      "Epoch 23/100\n",
      "1705/1705 [==============================] - 2s 926us/step - loss: 1.1228 - accuracy: 0.7098\n",
      "Epoch 24/100\n",
      "1705/1705 [==============================] - 2s 929us/step - loss: 1.1227 - accuracy: 0.7096\n",
      "Epoch 25/100\n",
      "1705/1705 [==============================] - 2s 915us/step - loss: 1.1205 - accuracy: 0.7099\n",
      "Epoch 26/100\n",
      "1705/1705 [==============================] - 2s 1ms/step - loss: 1.1208 - accuracy: 0.7099\n",
      "Epoch 27/100\n",
      "1705/1705 [==============================] - 2s 924us/step - loss: 1.1197 - accuracy: 0.7100\n",
      "Epoch 28/100\n",
      "1705/1705 [==============================] - 2s 913us/step - loss: 1.1196 - accuracy: 0.7099\n",
      "Epoch 29/100\n",
      "1705/1705 [==============================] - 2s 906us/step - loss: 1.1183 - accuracy: 0.7099\n",
      "Epoch 30/100\n",
      "1705/1705 [==============================] - 2s 911us/step - loss: 1.1183 - accuracy: 0.7100\n",
      "Epoch 31/100\n",
      "1705/1705 [==============================] - 2s 915us/step - loss: 1.1170 - accuracy: 0.7101\n",
      "Epoch 32/100\n",
      "1705/1705 [==============================] - 2s 914us/step - loss: 1.1170 - accuracy: 0.7101\n",
      "Epoch 33/100\n",
      "1705/1705 [==============================] - 2s 908us/step - loss: 1.1164 - accuracy: 0.7101\n",
      "Epoch 34/100\n",
      "1705/1705 [==============================] - 2s 908us/step - loss: 1.1154 - accuracy: 0.7102\n",
      "Epoch 35/100\n",
      "1705/1705 [==============================] - 2s 904us/step - loss: 1.1157 - accuracy: 0.7102\n",
      "Epoch 36/100\n",
      "1705/1705 [==============================] - 2s 912us/step - loss: 1.1147 - accuracy: 0.7102\n",
      "Epoch 37/100\n",
      "1705/1705 [==============================] - 2s 919us/step - loss: 1.1135 - accuracy: 0.7103\n",
      "Epoch 38/100\n",
      "1705/1705 [==============================] - 2s 940us/step - loss: 1.1130 - accuracy: 0.7104\n",
      "Epoch 39/100\n",
      "1705/1705 [==============================] - 2s 937us/step - loss: 1.1134 - accuracy: 0.7102\n",
      "Epoch 40/100\n",
      "1705/1705 [==============================] - 2s 939us/step - loss: 1.1126 - accuracy: 0.7106\n",
      "Epoch 41/100\n",
      "1705/1705 [==============================] - 2s 913us/step - loss: 1.1117 - accuracy: 0.7105\n",
      "Epoch 42/100\n",
      "1705/1705 [==============================] - 2s 903us/step - loss: 1.1111 - accuracy: 0.7104\n",
      "Epoch 43/100\n",
      "1705/1705 [==============================] - 2s 918us/step - loss: 1.1106 - accuracy: 0.7104\n",
      "Epoch 44/100\n",
      "1705/1705 [==============================] - 2s 909us/step - loss: 1.1104 - accuracy: 0.7105\n",
      "Epoch 45/100\n",
      "1705/1705 [==============================] - 2s 903us/step - loss: 1.1101 - accuracy: 0.7106\n",
      "Epoch 46/100\n",
      "1705/1705 [==============================] - 2s 928us/step - loss: 1.1099 - accuracy: 0.7105\n",
      "Epoch 47/100\n",
      "1705/1705 [==============================] - 2s 901us/step - loss: 1.1089 - accuracy: 0.7108\n",
      "Epoch 48/100\n",
      "1705/1705 [==============================] - 2s 907us/step - loss: 1.1092 - accuracy: 0.7108\n",
      "Epoch 49/100\n",
      "1705/1705 [==============================] - 2s 920us/step - loss: 1.1087 - accuracy: 0.7108\n",
      "Epoch 50/100\n",
      "1705/1705 [==============================] - 2s 954us/step - loss: 1.1084 - accuracy: 0.7107\n",
      "Epoch 51/100\n",
      "1705/1705 [==============================] - 2s 915us/step - loss: 1.1086 - accuracy: 0.7109\n",
      "Epoch 52/100\n",
      "1705/1705 [==============================] - 2s 908us/step - loss: 1.1068 - accuracy: 0.7109\n",
      "Epoch 53/100\n",
      "1705/1705 [==============================] - 2s 896us/step - loss: 1.1066 - accuracy: 0.7110\n",
      "Epoch 54/100\n",
      "1705/1705 [==============================] - 2s 909us/step - loss: 1.1069 - accuracy: 0.7108\n",
      "Epoch 55/100\n",
      "1705/1705 [==============================] - 2s 907us/step - loss: 1.1055 - accuracy: 0.7107\n",
      "Epoch 56/100\n",
      "1705/1705 [==============================] - 2s 910us/step - loss: 1.1054 - accuracy: 0.7112\n",
      "Epoch 57/100\n",
      "1705/1705 [==============================] - 2s 912us/step - loss: 1.1051 - accuracy: 0.7112\n",
      "Epoch 58/100\n",
      "1705/1705 [==============================] - 2s 904us/step - loss: 1.1047 - accuracy: 0.7115\n",
      "Epoch 59/100\n",
      "1705/1705 [==============================] - 2s 909us/step - loss: 1.1046 - accuracy: 0.7110\n",
      "Epoch 60/100\n",
      "1705/1705 [==============================] - 2s 905us/step - loss: 1.1041 - accuracy: 0.7112\n",
      "Epoch 61/100\n",
      "1705/1705 [==============================] - 2s 915us/step - loss: 1.1035 - accuracy: 0.7115\n",
      "Epoch 62/100\n",
      "1705/1705 [==============================] - 2s 929us/step - loss: 1.1040 - accuracy: 0.7113\n",
      "Epoch 63/100\n",
      "1705/1705 [==============================] - 2s 941us/step - loss: 1.1036 - accuracy: 0.7114\n",
      "Epoch 64/100\n",
      "1705/1705 [==============================] - 2s 912us/step - loss: 1.1040 - accuracy: 0.7112\n",
      "Epoch 65/100\n",
      "1705/1705 [==============================] - 2s 904us/step - loss: 1.1027 - accuracy: 0.7114\n",
      "Epoch 66/100\n",
      "1705/1705 [==============================] - 2s 907us/step - loss: 1.1023 - accuracy: 0.7115\n",
      "Epoch 67/100\n",
      "1705/1705 [==============================] - 2s 915us/step - loss: 1.1023 - accuracy: 0.7115\n",
      "Epoch 68/100\n",
      "1705/1705 [==============================] - 2s 955us/step - loss: 1.1019 - accuracy: 0.7113\n",
      "Epoch 69/100\n",
      "1705/1705 [==============================] - 2s 958us/step - loss: 1.1021 - accuracy: 0.7114\n",
      "Epoch 70/100\n",
      "1705/1705 [==============================] - 2s 967us/step - loss: 1.1012 - accuracy: 0.7114\n",
      "Epoch 71/100\n",
      "1705/1705 [==============================] - 2s 954us/step - loss: 1.1023 - accuracy: 0.7116\n",
      "Epoch 72/100\n",
      "1705/1705 [==============================] - 2s 954us/step - loss: 1.1008 - accuracy: 0.7115\n",
      "Epoch 73/100\n",
      "1705/1705 [==============================] - 2s 956us/step - loss: 1.1008 - accuracy: 0.7116\n",
      "Epoch 74/100\n",
      "1705/1705 [==============================] - 2s 940us/step - loss: 1.1007 - accuracy: 0.7117\n",
      "Epoch 75/100\n",
      "1705/1705 [==============================] - 2s 958us/step - loss: 1.1005 - accuracy: 0.7115\n",
      "Epoch 76/100\n",
      "1705/1705 [==============================] - 2s 909us/step - loss: 1.1004 - accuracy: 0.7118\n",
      "Epoch 77/100\n",
      "1705/1705 [==============================] - 2s 921us/step - loss: 1.0999 - accuracy: 0.7117\n",
      "Epoch 78/100\n"
     ]
    },
    {
     "name": "stdout",
     "output_type": "stream",
     "text": [
      "1705/1705 [==============================] - 2s 906us/step - loss: 1.0998 - accuracy: 0.7118\n",
      "Epoch 79/100\n",
      "1705/1705 [==============================] - 2s 1ms/step - loss: 1.0999 - accuracy: 0.7118\n",
      "Epoch 80/100\n",
      "1705/1705 [==============================] - 2s 1ms/step - loss: 1.0996 - accuracy: 0.7119\n",
      "Epoch 81/100\n",
      "1705/1705 [==============================] - 2s 1ms/step - loss: 1.0993 - accuracy: 0.7116\n",
      "Epoch 82/100\n",
      "1705/1705 [==============================] - 2s 1ms/step - loss: 1.0991 - accuracy: 0.7117\n",
      "Epoch 83/100\n",
      "1705/1705 [==============================] - 2s 1ms/step - loss: 1.0989 - accuracy: 0.7120\n",
      "Epoch 84/100\n",
      "1705/1705 [==============================] - 2s 1ms/step - loss: 1.0984 - accuracy: 0.7118\n",
      "Epoch 85/100\n",
      "1705/1705 [==============================] - 2s 1ms/step - loss: 1.0982 - accuracy: 0.7121\n",
      "Epoch 86/100\n",
      "1705/1705 [==============================] - 2s 1ms/step - loss: 1.0979 - accuracy: 0.7121\n",
      "Epoch 87/100\n",
      "1705/1705 [==============================] - 2s 1ms/step - loss: 1.0982 - accuracy: 0.7121\n",
      "Epoch 88/100\n",
      "1705/1705 [==============================] - 2s 1ms/step - loss: 1.0980 - accuracy: 0.7118\n",
      "Epoch 89/100\n",
      "1705/1705 [==============================] - 2s 907us/step - loss: 1.0978 - accuracy: 0.7118\n",
      "Epoch 90/100\n",
      "1705/1705 [==============================] - 2s 1ms/step - loss: 1.0972 - accuracy: 0.7121\n",
      "Epoch 91/100\n",
      "1705/1705 [==============================] - 2s 1ms/step - loss: 1.0971 - accuracy: 0.7118\n",
      "Epoch 92/100\n",
      "1705/1705 [==============================] - 2s 1ms/step - loss: 1.0975 - accuracy: 0.7121\n",
      "Epoch 93/100\n",
      "1705/1705 [==============================] - 2s 977us/step - loss: 1.0970 - accuracy: 0.7119\n",
      "Epoch 94/100\n",
      "1705/1705 [==============================] - 2s 953us/step - loss: 1.0972 - accuracy: 0.7122\n",
      "Epoch 95/100\n",
      "1705/1705 [==============================] - 2s 935us/step - loss: 1.0963 - accuracy: 0.7121\n",
      "Epoch 96/100\n",
      "1705/1705 [==============================] - 2s 949us/step - loss: 1.0962 - accuracy: 0.7122\n",
      "Epoch 97/100\n",
      "1705/1705 [==============================] - 2s 909us/step - loss: 1.0967 - accuracy: 0.7122\n",
      "Epoch 98/100\n",
      "1705/1705 [==============================] - 2s 923us/step - loss: 1.0963 - accuracy: 0.7122\n",
      "Epoch 99/100\n",
      "1705/1705 [==============================] - 2s 1ms/step - loss: 1.0963 - accuracy: 0.7123\n",
      "Epoch 100/100\n",
      "1705/1705 [==============================] - 2s 923us/step - loss: 1.0960 - accuracy: 0.7126\n"
     ]
    },
    {
     "data": {
      "text/plain": [
       "<keras.callbacks.History at 0x7f09f3e13eb0>"
      ]
     },
     "execution_count": 48,
     "metadata": {},
     "output_type": "execute_result"
    }
   ],
   "source": [
    "# model definition\n",
    "model = ml.Sequential()\n",
    "model.add(l.Dense(128, input_dim=x_train.shape[1], activation='relu'))\n",
    "model.add(l.Dense(11, activation='softmax'))\n",
    "\n",
    "# model compile \n",
    "model.compile(loss='categorical_crossentropy', optimizer='adam', metrics=['accuracy'])\n",
    "\n",
    "# train model\n",
    "model.fit(x_train, y_train_nn, epochs=100)"
   ]
  },
  {
   "cell_type": "markdown",
   "id": "4d9abc91",
   "metadata": {},
   "source": [
    "# 6.0 NN PERFORMANCE"
   ]
  },
  {
   "cell_type": "code",
   "execution_count": 49,
   "id": "428a4617",
   "metadata": {
    "ExecuteTime": {
     "end_time": "2021-12-04T12:37:08.770048Z",
     "start_time": "2021-12-04T12:37:08.499331Z"
    }
   },
   "outputs": [],
   "source": [
    "# prediction\n",
    "pred_nn = model.predict(x_test)\n",
    "\n",
    "# invert prediction\n",
    "yhat_nn = ohe.inverse_transform(pred_nn)\n",
    "\n",
    "# prediction prepare\n",
    "y_test_nn = y_test.to_numpy()\n",
    "yhat_nn = yhat_nn.reshape(1, -1)[0]"
   ]
  },
  {
   "cell_type": "code",
   "execution_count": 51,
   "id": "1d31ad82",
   "metadata": {
    "ExecuteTime": {
     "end_time": "2021-12-04T12:37:10.014877Z",
     "start_time": "2021-12-04T12:37:08.815086Z"
    }
   },
   "outputs": [
    {
     "name": "stdout",
     "output_type": "stream",
     "text": [
      "Accuracy: 0.7032636596993033\n",
      "Balanced Accuracy: 0.09135172030107154\n",
      "kappa Score: 0.0012143906413490946\n"
     ]
    },
    {
     "name": "stderr",
     "output_type": "stream",
     "text": [
      "/home/borges/anaconda3/lib/python3.8/site-packages/sklearn/metrics/_classification.py:1245: UndefinedMetricWarning: Precision and F-score are ill-defined and being set to 0.0 in labels with no predicted samples. Use `zero_division` parameter to control this behavior.\n",
      "  _warn_prf(average, modifier, msg_start, len(result))\n",
      "/home/borges/anaconda3/lib/python3.8/site-packages/sklearn/metrics/_classification.py:1245: UndefinedMetricWarning: Precision and F-score are ill-defined and being set to 0.0 in labels with no predicted samples. Use `zero_division` parameter to control this behavior.\n",
      "  _warn_prf(average, modifier, msg_start, len(result))\n",
      "/home/borges/anaconda3/lib/python3.8/site-packages/sklearn/metrics/_classification.py:1245: UndefinedMetricWarning: Precision and F-score are ill-defined and being set to 0.0 in labels with no predicted samples. Use `zero_division` parameter to control this behavior.\n",
      "  _warn_prf(average, modifier, msg_start, len(result))\n"
     ]
    },
    {
     "name": "stdout",
     "output_type": "stream",
     "text": [
      "              precision    recall  f1-score   support\n",
      "\n",
      "          AU       0.00      0.00      0.00       101\n",
      "          CA       0.00      0.00      0.00       214\n",
      "          DE       0.50      0.01      0.01       170\n",
      "          ES       0.00      0.00      0.00       345\n",
      "          FR       0.00      0.00      0.00       710\n",
      "          GB       0.00      0.00      0.00       344\n",
      "          IT       0.00      0.00      0.00       423\n",
      "          NL       0.00      0.00      0.00       128\n",
      "          PT       0.00      0.00      0.00        36\n",
      "          US       0.71      1.00      0.83      9624\n",
      "       other       0.13      0.00      0.01      1540\n",
      "\n",
      "    accuracy                           0.70     13635\n",
      "   macro avg       0.12      0.09      0.08     13635\n",
      "weighted avg       0.52      0.70      0.58     13635\n",
      "\n"
     ]
    },
    {
     "data": {
      "image/png": "[encoded data removed]",
      "text/plain": [
       "<Figure size 1080x1080 with 2 Axes>"
      ]
     },
     "metadata": {
      "needs_background": "light"
     },
     "output_type": "display_data"
    }
   ],
   "source": [
    "# accuracy\n",
    "acc_nn = m.accuracy_score(y_test_nn, yhat_nn)\n",
    "print('Accuracy: {}'.format(acc_nn))\n",
    "\n",
    "# balanced accuracy\n",
    "balanced_acc_nn = m.balanced_accuracy_score(y_test_nn, yhat_nn)\n",
    "print('Balanced Accuracy: {}'.format(balanced_acc_nn))\n",
    "\n",
    "# kappa metrics\n",
    "kappa_nn = m.cohen_kappa_score(y_test_nn, yhat_nn)\n",
    "print('kappa Score: {}'.format(kappa_nn))\n",
    "\n",
    "# classification report\n",
    "print(m.classification_report(y_test_nn, yhat_nn))\n",
    "\n",
    "# confusion matrix\n",
    "mt.plot_confusion_matrix(y_test_nn, yhat_nn, normalize=False, figsize=(15, 15));\n",
    "\n",
    "\n"
   ]
  },
  {
   "cell_type": "code",
   "execution_count": null,
   "id": "0f57097f",
   "metadata": {},
   "outputs": [],
   "source": []
  },
  {
   "cell_type": "code",
   "execution_count": null,
   "id": "8ede7f38",
   "metadata": {},
   "outputs": [],
   "source": []
  },
  {
   "cell_type": "code",
   "execution_count": null,
   "id": "659215a9",
   "metadata": {},
   "outputs": [],
   "source": []
  },
  {
   "cell_type": "code",
   "execution_count": null,
   "id": "24f92e75",
   "metadata": {},
   "outputs": [],
   "source": []
  },
  {
   "cell_type": "code",
   "execution_count": null,
   "id": "9f64fd91",
   "metadata": {},
   "outputs": [],
   "source": []
  },
  {
   "cell_type": "code",
   "execution_count": null,
   "id": "842133c6",
   "metadata": {},
   "outputs": [],
   "source": []
  }
 ],
 "metadata": {
  "kernelspec": {
   "display_name": "Python 3",
   "language": "python",
   "name": "python3"
  },
  "language_info": {
   "codemirror_mode": {
    "name": "ipython",
    "version": 3
   },
   "file_extension": ".py",
   "mimetype": "text/x-python",
   "name": "python",
   "nbconvert_exporter": "python",
   "pygments_lexer": "ipython3",
   "version": "3.8.8"
  },
  "toc": {
   "base_numbering": 1,
   "nav_menu": {},
   "number_sections": false,
   "sideBar": false,
   "skip_h1_title": false,
   "title_cell": "Table of Contents",
   "title_sidebar": "Contents",
   "toc_cell": false,
   "toc_position": {
    "height": "456px",
    "left": "1056px",
    "top": "132px",
    "width": "264px"
   },
   "toc_section_display": true,
   "toc_window_display": false
  }
 },
 "nbformat": 4,
 "nbformat_minor": 5
}
